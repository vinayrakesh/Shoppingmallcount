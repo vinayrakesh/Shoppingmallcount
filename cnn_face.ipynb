{
 "cells": [
  {
   "cell_type": "code",
   "execution_count": 1,
   "metadata": {},
   "outputs": [
    {
     "name": "stderr",
     "output_type": "stream",
     "text": [
      "Using TensorFlow backend.\n"
     ]
    }
   ],
   "source": [
    "from keras.models import Sequential\n",
    "from keras.layers import Dense\n",
    "from keras.layers import Conv2D\n",
    "from keras.layers import MaxPooling2D\n",
    "from keras.layers import Flatten"
   ]
  },
  {
   "cell_type": "code",
   "execution_count": 2,
   "metadata": {},
   "outputs": [],
   "source": [
    "#intialize te cnn model\n",
    "model=Sequential()"
   ]
  },
  {
   "cell_type": "code",
   "execution_count": 3,
   "metadata": {},
   "outputs": [
    {
     "name": "stdout",
     "output_type": "stream",
     "text": [
      "WARNING:tensorflow:From C:\\Users\\computer\\Anaconda3\\lib\\site-packages\\tensorflow\\python\\framework\\op_def_library.py:263: colocate_with (from tensorflow.python.framework.ops) is deprecated and will be removed in a future version.\n",
      "Instructions for updating:\n",
      "Colocations handled automatically by placer.\n"
     ]
    },
    {
     "name": "stderr",
     "output_type": "stream",
     "text": [
      "C:\\Users\\computer\\Anaconda3\\lib\\site-packages\\ipykernel_launcher.py:2: UserWarning: Update your `Conv2D` call to the Keras 2 API: `Conv2D(32, (3, 3), input_shape=(64, 64, 3..., activation=\"relu\")`\n",
      "  \n"
     ]
    }
   ],
   "source": [
    "#add convolution layer\n",
    "model.add(Conv2D(32,3,3,input_shape=(64,64,3),activation='relu'))"
   ]
  },
  {
   "cell_type": "code",
   "execution_count": 4,
   "metadata": {},
   "outputs": [],
   "source": [
    "model.add(MaxPooling2D(pool_size=(2,2)))"
   ]
  },
  {
   "cell_type": "code",
   "execution_count": 5,
   "metadata": {},
   "outputs": [
    {
     "name": "stderr",
     "output_type": "stream",
     "text": [
      "C:\\Users\\computer\\Anaconda3\\lib\\site-packages\\ipykernel_launcher.py:1: UserWarning: Update your `Conv2D` call to the Keras 2 API: `Conv2D(32, (3, 3), input_shape=(64, 64, 3..., activation=\"relu\")`\n",
      "  \"\"\"Entry point for launching an IPython kernel.\n"
     ]
    }
   ],
   "source": [
    "model.add(Conv2D(32,3,3,input_shape=(64,64,3),activation='relu'))"
   ]
  },
  {
   "cell_type": "code",
   "execution_count": 6,
   "metadata": {},
   "outputs": [],
   "source": [
    "model.add(MaxPooling2D(pool_size=(2,2)))"
   ]
  },
  {
   "cell_type": "code",
   "execution_count": 7,
   "metadata": {},
   "outputs": [],
   "source": [
    "model.add(Flatten())"
   ]
  },
  {
   "cell_type": "code",
   "execution_count": 8,
   "metadata": {},
   "outputs": [
    {
     "name": "stderr",
     "output_type": "stream",
     "text": [
      "C:\\Users\\computer\\Anaconda3\\lib\\site-packages\\ipykernel_launcher.py:1: UserWarning: Update your `Dense` call to the Keras 2 API: `Dense(activation=\"relu\", units=120, kernel_initializer=\"uniform\")`\n",
      "  \"\"\"Entry point for launching an IPython kernel.\n"
     ]
    }
   ],
   "source": [
    "model.add(Dense(init=\"uniform\",activation=\"relu\",output_dim=120))"
   ]
  },
  {
   "cell_type": "code",
   "execution_count": 9,
   "metadata": {},
   "outputs": [
    {
     "name": "stderr",
     "output_type": "stream",
     "text": [
      "C:\\Users\\computer\\Anaconda3\\lib\\site-packages\\ipykernel_launcher.py:2: UserWarning: Update your `Dense` call to the Keras 2 API: `Dense(activation=\"sigmoid\", units=1, kernel_initializer=\"uniform\")`\n",
      "  \n"
     ]
    }
   ],
   "source": [
    "#add output layer\n",
    "model.add(Dense(init=\"uniform\",activation=\"sigmoid\",output_dim=1))"
   ]
  },
  {
   "cell_type": "code",
   "execution_count": 10,
   "metadata": {},
   "outputs": [],
   "source": [
    "model.compile(optimizer=\"adam\",loss=\"binary_crossentropy\",metrics=['accuracy'])"
   ]
  },
  {
   "cell_type": "code",
   "execution_count": 11,
   "metadata": {},
   "outputs": [],
   "source": [
    "from keras .preprocessing.image import ImageDataGenerator\n",
    "train_datagen = ImageDataGenerator(\n",
    "        rescale=1./255,\n",
    "        shear_range=0.2,\n",
    "        zoom_range=0.2,\n",
    "        horizontal_flip=True)"
   ]
  },
  {
   "cell_type": "code",
   "execution_count": 12,
   "metadata": {},
   "outputs": [],
   "source": [
    "test_datagen = ImageDataGenerator(rescale=1./255)"
   ]
  },
  {
   "cell_type": "code",
   "execution_count": 13,
   "metadata": {},
   "outputs": [
    {
     "name": "stdout",
     "output_type": "stream",
     "text": [
      "Found 9859 images belonging to 2 classes.\n"
     ]
    }
   ],
   "source": [
    "x_train = train_datagen.flow_from_directory(\n",
    "        r'C:\\Users\\computer\\Desktop\\New folder\\data set\\trainset',\n",
    "        target_size=(64, 64),\n",
    "        batch_size=32,\n",
    "        class_mode='binary')"
   ]
  },
  {
   "cell_type": "code",
   "execution_count": 14,
   "metadata": {},
   "outputs": [
    {
     "name": "stdout",
     "output_type": "stream",
     "text": [
      "Found 4547 images belonging to 2 classes.\n"
     ]
    }
   ],
   "source": [
    "x_test = train_datagen.flow_from_directory(\n",
    "        r'C:\\Users\\computer\\Desktop\\New folder\\data set\\testset',\n",
    "        target_size=(64, 64),\n",
    "        batch_size=32,\n",
    "        class_mode='binary')"
   ]
  },
  {
   "cell_type": "code",
   "execution_count": 15,
   "metadata": {},
   "outputs": [
    {
     "name": "stdout",
     "output_type": "stream",
     "text": [
      "WARNING:tensorflow:From C:\\Users\\computer\\Anaconda3\\lib\\site-packages\\tensorflow\\python\\ops\\math_ops.py:3066: to_int32 (from tensorflow.python.ops.math_ops) is deprecated and will be removed in a future version.\n",
      "Instructions for updating:\n",
      "Use tf.cast instead.\n",
      "Epoch 1/30\n",
      "308/308 [==============================] - 622s 2s/step - loss: 0.6475 - acc: 0.6235 - val_loss: 0.6183 - val_acc: 0.6261\n",
      "Epoch 2/30\n",
      "308/308 [==============================] - 567s 2s/step - loss: 0.5942 - acc: 0.6780 - val_loss: 0.4932 - val_acc: 0.7535\n",
      "Epoch 3/30\n",
      "308/308 [==============================] - 504s 2s/step - loss: 0.5632 - acc: 0.7005 - val_loss: 0.4683 - val_acc: 0.7887\n",
      "Epoch 4/30\n",
      "308/308 [==============================] - 1881s 6s/step - loss: 0.5492 - acc: 0.7085 - val_loss: 0.4981 - val_acc: 0.7539\n",
      "Epoch 5/30\n",
      "308/308 [==============================] - 507s 2s/step - loss: 0.5335 - acc: 0.7204 - val_loss: 0.4586 - val_acc: 0.7805\n",
      "Epoch 6/30\n",
      "308/308 [==============================] - 495s 2s/step - loss: 0.5129 - acc: 0.7364 - val_loss: 0.4582 - val_acc: 0.7767\n",
      "Epoch 7/30\n",
      "308/308 [==============================] - 454s 1s/step - loss: 0.4898 - acc: 0.7429 - val_loss: 0.3714 - val_acc: 0.8275\n",
      "Epoch 8/30\n",
      "308/308 [==============================] - 430s 1s/step - loss: 0.4858 - acc: 0.7534 - val_loss: 0.4466 - val_acc: 0.7889\n",
      "Epoch 9/30\n",
      "308/308 [==============================] - 449s 1s/step - loss: 0.4658 - acc: 0.7630 - val_loss: 0.3644 - val_acc: 0.8377\n",
      "Epoch 10/30\n",
      "308/308 [==============================] - 468s 2s/step - loss: 0.4632 - acc: 0.7641 - val_loss: 0.4160 - val_acc: 0.7982\n",
      "Epoch 11/30\n",
      "308/308 [==============================] - 462s 2s/step - loss: 0.4427 - acc: 0.7846 - val_loss: 0.3613 - val_acc: 0.8321\n",
      "Epoch 12/30\n",
      "308/308 [==============================] - 490s 2s/step - loss: 0.4211 - acc: 0.7998 - val_loss: 0.3312 - val_acc: 0.8536\n",
      "Epoch 13/30\n",
      "308/308 [==============================] - 629s 2s/step - loss: 0.4218 - acc: 0.7953 - val_loss: 0.4018 - val_acc: 0.8073\n",
      "Epoch 14/30\n",
      "308/308 [==============================] - 335s 1s/step - loss: 0.3954 - acc: 0.8125 - val_loss: 0.4089 - val_acc: 0.8084\n",
      "Epoch 15/30\n",
      "308/308 [==============================] - 379s 1s/step - loss: 0.3839 - acc: 0.8196 - val_loss: 0.2796 - val_acc: 0.8804\n",
      "Epoch 16/30\n",
      "308/308 [==============================] - 423s 1s/step - loss: 0.3709 - acc: 0.8238 - val_loss: 0.3434 - val_acc: 0.8450\n",
      "Epoch 17/30\n",
      "308/308 [==============================] - 349s 1s/step - loss: 0.3526 - acc: 0.8357 - val_loss: 0.2871 - val_acc: 0.8724\n",
      "Epoch 18/30\n",
      "308/308 [==============================] - 372s 1s/step - loss: 0.3400 - acc: 0.8434 - val_loss: 0.2765 - val_acc: 0.8762\n",
      "Epoch 19/30\n",
      "308/308 [==============================] - 354s 1s/step - loss: 0.3124 - acc: 0.8608 - val_loss: 0.2703 - val_acc: 0.8857\n",
      "Epoch 20/30\n",
      "308/308 [==============================] - 340s 1s/step - loss: 0.3118 - acc: 0.8618 - val_loss: 0.2400 - val_acc: 0.8990\n",
      "Epoch 21/30\n",
      "308/308 [==============================] - 342s 1s/step - loss: 0.2954 - acc: 0.8733 - val_loss: 0.2401 - val_acc: 0.9001\n",
      "Epoch 22/30\n",
      "308/308 [==============================] - 371s 1s/step - loss: 0.2789 - acc: 0.8765 - val_loss: 0.2881 - val_acc: 0.8740\n",
      "Epoch 23/30\n",
      "308/308 [==============================] - 328s 1s/step - loss: 0.2642 - acc: 0.8863 - val_loss: 0.2115 - val_acc: 0.9169\n",
      "Epoch 24/30\n",
      "308/308 [==============================] - 319s 1s/step - loss: 0.2542 - acc: 0.8911 - val_loss: 0.2227 - val_acc: 0.9059\n",
      "Epoch 25/30\n",
      "308/308 [==============================] - 343s 1s/step - loss: 0.2487 - acc: 0.8943 - val_loss: 0.1908 - val_acc: 0.9214\n",
      "Epoch 26/30\n",
      "308/308 [==============================] - 580s 2s/step - loss: 0.2242 - acc: 0.9055 - val_loss: 0.2384 - val_acc: 0.9030\n",
      "Epoch 27/30\n",
      "308/308 [==============================] - 369s 1s/step - loss: 0.2301 - acc: 0.9034 - val_loss: 0.1917 - val_acc: 0.9234\n",
      "Epoch 28/30\n",
      "308/308 [==============================] - 548s 2s/step - loss: 0.2067 - acc: 0.9152 - val_loss: 0.1830 - val_acc: 0.9225\n",
      "Epoch 29/30\n",
      "308/308 [==============================] - 533s 2s/step - loss: 0.1975 - acc: 0.9188 - val_loss: 0.1553 - val_acc: 0.9395\n",
      "Epoch 30/30\n",
      "308/308 [==============================] - 569s 2s/step - loss: 0.1890 - acc: 0.9253 - val_loss: 0.1382 - val_acc: 0.9455\n"
     ]
    },
    {
     "data": {
      "text/plain": [
       "<keras.callbacks.History at 0x1e2dd504630>"
      ]
     },
     "execution_count": 15,
     "metadata": {},
     "output_type": "execute_result"
    }
   ],
   "source": [
    "model.fit_generator(\n",
    "        x_train,\n",
    "        steps_per_epoch=308,\n",
    "        epochs=30,\n",
    "        validation_data=x_test,\n",
    "        validation_steps=142)"
   ]
  },
  {
   "cell_type": "code",
   "execution_count": 16,
   "metadata": {},
   "outputs": [],
   "source": [
    "model.save(\"face_detect.h5\")"
   ]
  },
  {
   "cell_type": "code",
   "execution_count": 17,
   "metadata": {},
   "outputs": [
    {
     "data": {
      "text/plain": [
       "{'female': 0, 'male': 1}"
      ]
     },
     "execution_count": 17,
     "metadata": {},
     "output_type": "execute_result"
    }
   ],
   "source": [
    "x_train.class_indices"
   ]
  },
  {
   "cell_type": "code",
   "execution_count": null,
   "metadata": {},
   "outputs": [],
   "source": []
  }
 ],
 "metadata": {
  "kernelspec": {
   "display_name": "Python 3",
   "language": "python",
   "name": "python3"
  },
  "language_info": {
   "codemirror_mode": {
    "name": "ipython",
    "version": 3
   },
   "file_extension": ".py",
   "mimetype": "text/x-python",
   "name": "python",
   "nbconvert_exporter": "python",
   "pygments_lexer": "ipython3",
   "version": "3.7.3"
  }
 },
 "nbformat": 4,
 "nbformat_minor": 2
}
